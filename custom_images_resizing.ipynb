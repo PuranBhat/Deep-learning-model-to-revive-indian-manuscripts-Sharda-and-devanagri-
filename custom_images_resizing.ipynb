{
  "nbformat": 4,
  "nbformat_minor": 0,
  "metadata": {
    "colab": {
      "name": "custom_images_resizing.ipynb",
      "provenance": []
    },
    "kernelspec": {
      "name": "python3",
      "display_name": "Python 3"
    },
    "language_info": {
      "name": "python"
    }
  },
  "cells": [
    {
      "cell_type": "code",
      "source": [
        "from PIL import Image\n",
        "import os"
      ],
      "metadata": {
        "id": "fjE2mlSQvihh"
      },
      "execution_count": 6,
      "outputs": []
    },
    {
      "cell_type": "code",
      "execution_count": 7,
      "metadata": {
        "id": "foTMbrqGq9ZG"
      },
      "outputs": [],
      "source": [
        "f = r'/content/drive/MyDrive/Sharda'\n",
        "for file in os.listdir(f):\n",
        "    f_img = f+\"/\"+file\n",
        "    img = Image.open(f_img)\n",
        "    img = img.resize((256,256))\n",
        "    img.save(f_img)"
      ]
    }
  ]
}